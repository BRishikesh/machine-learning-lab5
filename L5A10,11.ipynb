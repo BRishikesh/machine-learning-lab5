{
 "cells": [
  {
   "cell_type": "code",
   "execution_count": 1,
   "id": "1d397caf",
   "metadata": {},
   "outputs": [
    {
     "name": "stdout",
     "output_type": "stream",
     "text": [
      "AND Predictions: [0 0 0 1]\n",
      "XOR Predictions: [0 1 1 0]\n"
     ]
    }
   ],
   "source": [
    "#10\n",
    "from sklearn.neural_network import MLPClassifier\n",
    "from sklearn.preprocessing import StandardScaler\n",
    "import numpy as np\n",
    "\n",
    "# AND gate data\n",
    "X_and = np.array([[0, 0], [0, 1], [1, 0], [1, 1]])\n",
    "y_and = np.array([0, 0, 0, 1])\n",
    "\n",
    "# XOR gate data\n",
    "X_xor = np.array([[0, 0], [0, 1], [1, 0], [1, 1]])\n",
    "y_xor = np.array([0, 1, 1, 0])\n",
    "\n",
    "# Feature Scaling\n",
    "scaler = StandardScaler()\n",
    "\n",
    "# Scale AND data\n",
    "X_and_scaled = scaler.fit_transform(X_and)\n",
    "\n",
    "# Scale XOR data\n",
    "X_xor_scaled = scaler.fit_transform(X_xor)\n",
    "\n",
    "# Train and predict for AND gate\n",
    "clf_and = MLPClassifier(solver='lbfgs', alpha=1e-5, hidden_layer_sizes=(5, 2), random_state=1)\n",
    "clf_and.fit(X_and_scaled, y_and)\n",
    "predictions_and = clf_and.predict(X_and_scaled)\n",
    "print(\"AND Predictions:\", predictions_and)\n",
    "\n",
    "# Train and predict for XOR gate\n",
    "clf_xor = MLPClassifier(solver='lbfgs', alpha=1e-5, hidden_layer_sizes=(5, 2), random_state=1)\n",
    "clf_xor.fit(X_xor_scaled, y_xor)\n",
    "predictions_xor = clf_xor.predict(X_xor_scaled)\n",
    "print(\"XOR Predictions:\", predictions_xor)\n"
   ]
  },
  {
   "cell_type": "code",
   "execution_count": 7,
   "id": "d75f5df4",
   "metadata": {},
   "outputs": [
    {
     "name": "stdout",
     "output_type": "stream",
     "text": [
      "Accuracy: 38.89%\n",
      "Confusion Matrix:\n",
      "[[27  8 22  0  0  8  3  0  0  0  0]\n",
      " [11 34  2  0  0  2  0  0  1  2  0]\n",
      " [ 6  2  6  0  0  8  0  0  0  1  0]\n",
      " [ 0  1  1  0  0  0  0  0  1  0  0]\n",
      " [ 3  0  2  0  0  0  0  0  0  0  0]\n",
      " [ 5  3  2  0  0  0  0  0  0  2  0]\n",
      " [ 3  0  0  0  0  0  1  0  0  0  0]\n",
      " [ 1  1  0  0  0  0  0  0  0  0  0]\n",
      " [ 0  1  0  0  0  0  0  0  0  0  0]\n",
      " [ 3  0  1  0  0  0  0  0  0  2  0]\n",
      " [ 2  0  0  0  0  2  0  0  0  0  0]]\n"
     ]
    }
   ],
   "source": [
    "#11\n",
    "import pandas as pd\n",
    "from sklearn.model_selection import train_test_split\n",
    "from sklearn.preprocessing import StandardScaler, LabelEncoder\n",
    "from sklearn.neural_network import MLPClassifier\n",
    "from sklearn.metrics import accuracy_score, confusion_matrix\n",
    "\n",
    "# Load the dataset\n",
    "data_path = \"embeddingsdata.xlsx\"\n",
    "data = pd.read_excel(data_path)\n",
    "\n",
    "# Convert non-numeric columns to numeric using LabelEncoder\n",
    "le = LabelEncoder()\n",
    "\n",
    "for column in data.columns:\n",
    "    if data[column].dtype == type(object):\n",
    "        data[column] = le.fit_transform(data[column])\n",
    "\n",
    "# Define inputs (features) and target\n",
    "X = data.drop('Label', axis=1)\n",
    "y = data['Label']\n",
    "\n",
    "# Split the dataset into training and test sets\n",
    "X_train, X_test, y_train, y_test = train_test_split(X, y, test_size=0.2, random_state=42)\n",
    "\n",
    "# Scale the features\n",
    "scaler = StandardScaler()\n",
    "X_train_scaled = scaler.fit_transform(X_train)\n",
    "X_test_scaled = scaler.transform(X_test)\n",
    "\n",
    "# Train the MLP classifier\n",
    "clf = MLPClassifier(solver='adam', alpha=1e-5, hidden_layer_sizes=(5, 2), max_iter=10000, random_state=1)\n",
    "clf.fit(X_train_scaled, y_train)\n",
    "\n",
    "# Predict using the trained model\n",
    "predictions = clf.predict(X_test_scaled)\n",
    "\n",
    "# Print the accuracy\n",
    "accuracy = accuracy_score(y_test, predictions)\n",
    "print(f\"Accuracy: {accuracy * 100:.2f}%\")\n",
    "\n",
    "# Print confusion matrix\n",
    "conf_matrix = confusion_matrix(y_test, predictions)\n",
    "print(\"Confusion Matrix:\")\n",
    "print(conf_matrix)\n",
    "\n"
   ]
  },
  {
   "cell_type": "code",
   "execution_count": null,
   "id": "8436b0c6",
   "metadata": {},
   "outputs": [],
   "source": []
  }
 ],
 "metadata": {
  "kernelspec": {
   "display_name": "Python 3 (ipykernel)",
   "language": "python",
   "name": "python3"
  },
  "language_info": {
   "codemirror_mode": {
    "name": "ipython",
    "version": 3
   },
   "file_extension": ".py",
   "mimetype": "text/x-python",
   "name": "python",
   "nbconvert_exporter": "python",
   "pygments_lexer": "ipython3",
   "version": "3.11.4"
  }
 },
 "nbformat": 4,
 "nbformat_minor": 5
}
